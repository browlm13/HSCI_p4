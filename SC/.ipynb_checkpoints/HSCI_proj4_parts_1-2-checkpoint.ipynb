{
 "cells": [
  {
   "cell_type": "code",
   "execution_count": 4,
   "metadata": {
    "collapsed": false
   },
   "outputs": [
    {
     "name": "stdout",
     "output_type": "stream",
     "text": [
      "Populating the interactive namespace from numpy and matplotlib\n"
     ]
    }
   ],
   "source": [
    "%pylab inline"
   ]
  },
  {
   "cell_type": "markdown",
   "metadata": {},
   "source": [
    "# High-order numerical integration"
   ]
  },
  {
   "cell_type": "markdown",
   "metadata": {},
   "source": [
    "In order to create a composite numerical integration function to improve upon the provided composite Gaussian numerical integration formula with 2 nodes on each of n subintervals of $[a, b]$, which has a $O(h^4)$ convergence I wrote a program to examine the big $O(x)$ convergence when diffrent number of nodes where applied for each subinterval.\n",
    "\n",
    "The chosen function should implement a composite numerical integration\n",
    "formula that is $O(h^8)$ or faster."
   ]
  },
  {
   "cell_type": "markdown",
   "metadata": {},
   "source": [
    "Examining the convergence of the compossite gaussian integration implimentatin with two nodes on each of the n subinterval yeilds the following results."
   ]
  },
  {
   "cell_type": "markdown",
   "metadata": {},
   "source": [
    " True Integral = 2.3924089071413306e+01\n",
    " Gauss-2 approximation:\n",
    "     n             R(f)            relerr    conv rate\n",
    "  ---------------------------------------------------\n",
    "       20  2.3945771528797508e+01  9.1e-04     ----\n",
    "       40  2.3921573107028049e+01  1.1e-04   3.107345\n",
    "       80  2.3924029037298578e+01  2.5e-06   5.389185\n",
    "      160  2.3924085882472767e+01  1.3e-07   4.234633\n",
    "      320  2.3924088879531197e+01  8.0e-09   4.054785\n",
    "      640  2.3924089059532218e+01  5.0e-10   4.013481\n",
    "     1280  2.3924089070672466e+01  3.1e-11   4.003361\n",
    "     2560  2.3924089071367035e+01  1.9e-12   4.000997\n",
    "     5120  2.3924089071410389e+01  1.2e-13   3.987647\n",
    "    10240  2.3924089071413178e+01  5.3e-15   4.511313\n",
    "  ---------------------------------------------------\n",
    "mean convergence rate = 4.14474966667"
   ]
  },
  {
   "cell_type": "markdown",
   "metadata": {},
   "source": [
    "Examining the convergence rates of the compossite gaussian integration implementations with nodes x on each subinterval yeilds the following results. where $x = \\{1,2,...,6\\}$. Where the number of nodes per subinterval is denoted by \"Gauss-x\" for each table. And where the number of intervals,n, are in the set $\\{2^1 * 10, 2^2 * 10, ... 2^5 * 10\\}$."
   ]
  },
  {
   "cell_type": "markdown",
   "metadata": {
    "collapsed": true
   },
   "source": [
    " True Integral = 2.3924089071413306e+01\n",
    "\n",
    " Gauss-1 approximation:\n",
    "     n             R(f)            relerr    conv rate\n",
    "  ---------------------------------------------------\n",
    "       10  2.3661457814670943e+01  1.1e-02     ----\n",
    "       20  2.3850953864633556e+01  3.1e-03   1.844401\n",
    "       40  2.3931160861247193e+01  3.0e-04   3.370419\n",
    "       80  2.3923298362977075e+01  3.3e-05   3.160858\n",
    "      160  2.3923831843200404e+01  1.1e-05   1.620097\n",
    "      320  2.3924021619308345e+01  2.8e-06   1.931114\n",
    "\n",
    "\tmean convergence: 2.385378, sd: 0.814914  ---------------------------------------------------\n",
    "\n",
    " True Integral = 2.3924089071413306e+01\n",
    "\n",
    " Gauss-2 approximation:\n",
    "     n             R(f)            relerr    conv rate\n",
    "  ---------------------------------------------------\n",
    "       10  2.3832560058640262e+01  3.8e-03     ----\n",
    "       20  2.3945771528797508e+01  9.1e-04   2.\n",
    "       40  2.3921573107028053e+01  1.1e-04   3.107345\n",
    "       80  2.3924029037298581e+01  2.5e-06   5.389185\n",
    "      160  2.3924085882472767e+01  1.3e-07   4.234633\n",
    "      320  2.3924088879531187e+01  8.0e-09   4.054785\n",
    "\n",
    "\tmean convergence: 3.772730, sd: 1.247167  ---------------------------------------------------\n",
    "\n",
    " True Integral = 2.3924089071413306e+01\n",
    "\n",
    " Gauss-3 approximation:\n",
    "     n             R(f)            relerr    conv rate\n",
    "  ---------------------------------------------------\n",
    "       10  2.3869023908880894e+01  2.3e-03     ----\n",
    "       20  2.3917861693834730e+01  2.6e-04   3.144443\n",
    "       40  2.3924232176373678e+01  6.0e-06   5.443479\n",
    "       80  2.3924089886668092e+01  3.4e-08   7.455607\n",
    "      160  2.3924089082121426e+01  4.5e-10   6.250474\n",
    "      320  2.3924089071573817e+01  6.7e-12   6.059884\n",
    "\n",
    "\tmean convergence: 5.670777, sd: 1.589583  ---------------------------------------------------\n",
    "\n",
    " True Integral = 2.3924089071413306e+01\n",
    "\n",
    " Gauss-4 approximation:\n",
    "     n             R(f)            relerr    conv rate\n",
    "  ---------------------------------------------------\n",
    "       10  2.4004419883352870e+01  3.4e-03     ----\n",
    "       20  2.3924921763522551e+01  3.5e-05   6.592026\n",
    "       40  2.3924084859070899e+01  1.8e-07   7.627017\n",
    "       80  2.3924089065582468e+01  2.4e-10   9.496704\n",
    "      160  2.3924089071394182e+01  8.0e-13   8.252156\n",
    "      320  2.3924089071413135e+01  7.1e-15   6.809232\n",
    "\n",
    "\tmean convergence: 7.755427, sd: 1.177291  ---------------------------------------------------\n",
    "\n",
    " True Integral = 2.3924089071413306e+01\n",
    "\n",
    " Gauss-5 approximation:\n",
    "     n             R(f)            relerr    conv rate\n",
    "  ---------------------------------------------------\n",
    "       10  2.3883146134635385e+01  1.7e-03     ----\n",
    "       20  2.3924023975578017e+01  2.7e-06   9.296834\n",
    "       40  2.3924089147197055e+01  3.2e-09   9.746461\n",
    "       80  2.3924089071439155e+01  1.1e-12   11.517534\n",
    "      160  2.3924089071413476e+01  7.1e-15   7.243967\n",
    "      320  2.3924089071413423e+01  4.9e-15   0.540568\n",
    "\n",
    "\tmean convergence: 7.669073, sd: 4.265328  ---------------------------------------------------\n",
    "\n",
    " True Integral = 2.3924089071413306e+01\n",
    "\n",
    " Gauss-6 approximation:\n",
    "     n             R(f)            relerr    conv rate\n",
    "  ---------------------------------------------------\n",
    "       10  2.3935450394420073e+01  4.7e-04     ----\n",
    "       20  2.3924092422416162e+01  1.4e-07   11.727250\n",
    "       40  2.3924089070493199e+01  3.8e-11   11.830504\n",
    "       80  2.3924089071413231e+01  3.1e-15   13.590203\n",
    "      160  2.3924089071413313e+01  3.0e-16   3.392317\n",
    "      320  2.3924089071413306e+01  0.0e+00   inf\n",
    "\n",
    "\tmean convergence: 10.135069, sd: 5.490719  ---------------------------------------------------"
   ]
  },
  {
   "cell_type": "markdown",
   "metadata": {},
   "source": [
    "From anyalizing the above tables it appears that the converges rates of composite gaussian integration implementations with nodes x on each subinterval increases with x."
   ]
  },
  {
   "cell_type": "code",
   "execution_count": 7,
   "metadata": {
    "collapsed": false
   },
   "outputs": [],
   "source": [
    "#import convergece rate data\n",
    "xs = loadtxt('xs.txt')  #number of nodes per sub interval\n",
    "mcrs = loadtxt('mean_crs.txt') #mean converges rate of sample for x nodes"
   ]
  },
  {
   "cell_type": "code",
   "execution_count": 23,
   "metadata": {
    "collapsed": false
   },
   "outputs": [
    {
     "data": {
      "text/plain": [
       "<matplotlib.text.Text at 0x10e5387f0>"
      ]
     },
     "execution_count": 23,
     "metadata": {},
     "output_type": "execute_result"
    },
    {
     "data": {
      "image/png": "[encoded data removed]",
      "text/plain": [
       "<matplotlib.figure.Figure at 0x10da69cc0>"
      ]
     },
     "metadata": {},
     "output_type": "display_data"
    }
   ],
   "source": [
    "#converge rate anylisis and number of nodes per interval\n",
    "plot(xs,mcrs,'r--', linewidth=2.0)\n",
    "bar(xs,mcrs)\n",
    "title('Rate of Convergence and Number of Gauss Nodes')\n",
    "ylabel('$O(h^x)$')\n",
    "xlabel('Number of Guassian Nodes per Subinterval')"
   ]
  },
  {
   "cell_type": "markdown",
   "metadata": {},
   "source": [
    "From the data sampled it appears that an increase in Nodes leades to an increase in the rate of converges of the routine. From the sampled data it appears that when $x >= 4$ the convergence of the routine is at least big $O(h^8)$, where x is the number of nodes per subinterval."
   ]
  },
  {
   "cell_type": "code",
   "execution_count": null,
   "metadata": {
    "collapsed": true
   },
   "outputs": [],
   "source": []
  }
 ],
 "metadata": {
  "kernelspec": {
   "display_name": "Python [Root]",
   "language": "python",
   "name": "Python [Root]"
  },
  "language_info": {
   "codemirror_mode": {
    "name": "ipython",
    "version": 3
   },
   "file_extension": ".py",
   "mimetype": "text/x-python",
   "name": "python",
   "nbconvert_exporter": "python",
   "pygments_lexer": "ipython3",
   "version": "3.5.2"
  }
 },
 "nbformat": 4,
 "nbformat_minor": 0
}
